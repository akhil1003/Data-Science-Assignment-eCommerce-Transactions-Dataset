{
  "nbformat": 4,
  "nbformat_minor": 0,
  "metadata": {
    "colab": {
      "provenance": []
    },
    "kernelspec": {
      "name": "python3",
      "display_name": "Python 3"
    },
    "language_info": {
      "name": "python"
    }
  },
  "cells": [
    {
      "cell_type": "code",
      "source": [
        "import pandas as pd\n",
        "from sklearn.metrics.pairwise import cosine_similarity\n",
        "from sklearn.feature_extraction.text import TfidfVectorizer\n",
        "import numpy as np\n",
        "# Load the datasets\n",
        "customers = pd.read_csv('/content/Customers.csv')\n",
        "products = pd.read_csv('/content/Products.csv')\n",
        "transactions = pd.read_csv('/content/Transactions.csv')\n",
        "\n",
        "# Merge data to prepare customer profiles\n",
        "transactions_customers = transactions.merge(customers, on=\"CustomerID\", how=\"left\")\n",
        "transactions_full = transactions_customers.merge(products, on=\"ProductID\", how=\"left\")\n",
        "\n",
        "# Create customer profiles\n",
        "customer_profiles = transactions_full.groupby(\"CustomerID\").agg({\n",
        "    'ProductID': lambda x: list(x),\n",
        "    'Category': lambda x: list(x),\n",
        "    'TotalValue': 'sum',\n",
        "    'Quantity': 'sum',\n",
        "    'Region': 'first',\n",
        "}).reset_index()\n",
        "\n",
        "customer_profiles['UniqueCategories'] = customer_profiles['Category'].apply(lambda x: set(x))\n",
        "customer_profiles['UniqueProducts'] = customer_profiles['ProductID'].apply(lambda x: set(x))\n",
        "\n",
        "# Incorporate numeric features\n",
        "customer_profiles['SpendingScaled'] = (customer_profiles['TotalValue'] - customer_profiles['TotalValue'].min()) / (\n",
        "    customer_profiles['TotalValue'].max() - customer_profiles['TotalValue'].min())\n",
        "customer_profiles['QuantityScaled'] = (customer_profiles['Quantity'] - customer_profiles['Quantity'].min()) / (\n",
        "    customer_profiles['Quantity'].max() - customer_profiles['Quantity'].min())\n",
        "\n",
        "# Prepare features for similarity calculation\n",
        "customer_profiles['Features'] = customer_profiles.apply(\n",
        "    lambda row: ' '.join(list(row['UniqueCategories']) + list(row['UniqueProducts'])), axis=1\n",
        ")\n",
        "\n",
        "# Vectorize features using TF-IDF\n",
        "vectorizer = TfidfVectorizer()\n",
        "feature_matrix = vectorizer.fit_transform(customer_profiles['Features'])\n",
        "\n",
        "# Combine numeric features into similarity computation\n",
        "numeric_features = customer_profiles[['SpendingScaled', 'QuantityScaled']].to_numpy()\n",
        "combined_features = np.hstack([feature_matrix.toarray(), numeric_features])\n",
        "\n",
        "# Calculate cosine similarity\n",
        "similarity_matrix = cosine_similarity(combined_features)\n",
        "\n",
        "# Generate top 3 lookalikes for the first 20 customers\n",
        "lookalike_results = {}\n",
        "\n",
        "for idx in range(20):\n",
        "    customer_id = customer_profiles.loc[idx, 'CustomerID']\n",
        "    similarity_scores = list(enumerate(similarity_matrix[idx]))\n",
        "    similarity_scores = sorted(similarity_scores, key=lambda x: x[1], reverse=True)\n",
        "\n",
        "    # Exclude the customer themselves\n",
        "    top_3_similar = similarity_scores[1:4]\n",
        "    lookalike_results[customer_id] = [\n",
        "        (customer_profiles.loc[i[0], 'CustomerID'], round(i[1], 2)) for i in top_3_similar\n",
        "    ]\n",
        "\n",
        "# Coverage\n",
        "coverage = len({rec[0] for rec_list in lookalike_results.values() for rec in rec_list}) / len(customer_profiles)\n",
        "\n",
        "# Print evaluation metrics\n",
        "print(\"Coverage:\", coverage)\n",
        "\n",
        "# Save lookalike results to CSV\n",
        "lookalike_df = pd.DataFrame({\n",
        "    'CustomerID': list(lookalike_results.keys()),\n",
        "    'Lookalikes': [str(lookalike_results[cust_id]) for cust_id in lookalike_results]\n",
        "})\n",
        "lookalike_df.to_csv('Lookalike.csv', index=False)\n"
      ],
      "metadata": {
        "colab": {
          "base_uri": "https://localhost:8080/"
        },
        "id": "-CfufqpZ8uda",
        "outputId": "2db8a259-5e5c-4122-ed97-84967d9a435d"
      },
      "execution_count": 3,
      "outputs": [
        {
          "output_type": "stream",
          "name": "stdout",
          "text": [
            "Coverage: 0.25125628140703515\n"
          ]
        }
      ]
    }
  ]
}